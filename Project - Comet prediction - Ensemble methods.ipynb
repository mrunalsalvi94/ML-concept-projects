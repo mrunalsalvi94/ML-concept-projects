{
 "cells": [
  {
   "cell_type": "code",
   "execution_count": 2,
   "metadata": {},
   "outputs": [],
   "source": [
    "from sklearn.model_selection import train_test_split\n",
    "from sklearn.preprocessing import MinMaxScaler\n",
    "import pandas as pd"
   ]
  },
  {
   "cell_type": "code",
   "execution_count": 3,
   "metadata": {},
   "outputs": [
    {
     "data": {
      "text/html": [
       "<div>\n",
       "<style scoped>\n",
       "    .dataframe tbody tr th:only-of-type {\n",
       "        vertical-align: middle;\n",
       "    }\n",
       "\n",
       "    .dataframe tbody tr th {\n",
       "        vertical-align: top;\n",
       "    }\n",
       "\n",
       "    .dataframe thead th {\n",
       "        text-align: right;\n",
       "    }\n",
       "</style>\n",
       "<table border=\"1\" class=\"dataframe\">\n",
       "  <thead>\n",
       "    <tr style=\"text-align: right;\">\n",
       "      <th></th>\n",
       "      <th>Unnamed: 0</th>\n",
       "      <th>attr0</th>\n",
       "      <th>attr1</th>\n",
       "      <th>attr2</th>\n",
       "      <th>attr3</th>\n",
       "      <th>attr4</th>\n",
       "      <th>attr5</th>\n",
       "      <th>attr6</th>\n",
       "      <th>attr7</th>\n",
       "      <th>attr8</th>\n",
       "      <th>...</th>\n",
       "      <th>attr1080</th>\n",
       "      <th>attr1081</th>\n",
       "      <th>attr1082</th>\n",
       "      <th>attr1083</th>\n",
       "      <th>attr1084</th>\n",
       "      <th>attr1085</th>\n",
       "      <th>attr1086</th>\n",
       "      <th>attr1087</th>\n",
       "      <th>attr1088</th>\n",
       "      <th>attr1089</th>\n",
       "    </tr>\n",
       "  </thead>\n",
       "  <tbody>\n",
       "    <tr>\n",
       "      <td>0</td>\n",
       "      <td>0</td>\n",
       "      <td>-4.049514</td>\n",
       "      <td>-5.055907</td>\n",
       "      <td>4.813832</td>\n",
       "      <td>10.975995</td>\n",
       "      <td>10.599993</td>\n",
       "      <td>8.103339</td>\n",
       "      <td>7.260105</td>\n",
       "      <td>3.984216</td>\n",
       "      <td>-3.352366</td>\n",
       "      <td>...</td>\n",
       "      <td>39.055706</td>\n",
       "      <td>39.480231</td>\n",
       "      <td>48.177327</td>\n",
       "      <td>49.460693</td>\n",
       "      <td>50.797614</td>\n",
       "      <td>50.680413</td>\n",
       "      <td>44.778675</td>\n",
       "      <td>36.101397</td>\n",
       "      <td>44.447948</td>\n",
       "      <td>0</td>\n",
       "    </tr>\n",
       "    <tr>\n",
       "      <td>1</td>\n",
       "      <td>1</td>\n",
       "      <td>3.514292</td>\n",
       "      <td>4.721218</td>\n",
       "      <td>-2.536391</td>\n",
       "      <td>-8.388817</td>\n",
       "      <td>-10.787064</td>\n",
       "      <td>-9.024258</td>\n",
       "      <td>-5.473323</td>\n",
       "      <td>7.646837</td>\n",
       "      <td>15.297336</td>\n",
       "      <td>...</td>\n",
       "      <td>34.934308</td>\n",
       "      <td>34.224270</td>\n",
       "      <td>42.633077</td>\n",
       "      <td>46.226847</td>\n",
       "      <td>49.730228</td>\n",
       "      <td>49.624121</td>\n",
       "      <td>45.398516</td>\n",
       "      <td>39.585452</td>\n",
       "      <td>45.971939</td>\n",
       "      <td>0</td>\n",
       "    </tr>\n",
       "    <tr>\n",
       "      <td>2</td>\n",
       "      <td>2</td>\n",
       "      <td>-11.318180</td>\n",
       "      <td>9.405884</td>\n",
       "      <td>29.141795</td>\n",
       "      <td>21.277405</td>\n",
       "      <td>-5.122294</td>\n",
       "      <td>-21.736671</td>\n",
       "      <td>-12.850864</td>\n",
       "      <td>3.134460</td>\n",
       "      <td>7.207608</td>\n",
       "      <td>...</td>\n",
       "      <td>86.905997</td>\n",
       "      <td>78.811334</td>\n",
       "      <td>84.165826</td>\n",
       "      <td>86.976997</td>\n",
       "      <td>116.149402</td>\n",
       "      <td>107.729029</td>\n",
       "      <td>96.534329</td>\n",
       "      <td>80.428859</td>\n",
       "      <td>114.810516</td>\n",
       "      <td>0</td>\n",
       "    </tr>\n",
       "    <tr>\n",
       "      <td>3</td>\n",
       "      <td>3</td>\n",
       "      <td>-7.143218</td>\n",
       "      <td>-9.869755</td>\n",
       "      <td>-7.905797</td>\n",
       "      <td>4.271652</td>\n",
       "      <td>22.890720</td>\n",
       "      <td>28.454973</td>\n",
       "      <td>12.167586</td>\n",
       "      <td>-2.024773</td>\n",
       "      <td>-2.093635</td>\n",
       "      <td>...</td>\n",
       "      <td>65.272842</td>\n",
       "      <td>63.522759</td>\n",
       "      <td>67.886176</td>\n",
       "      <td>67.388943</td>\n",
       "      <td>93.066755</td>\n",
       "      <td>91.394297</td>\n",
       "      <td>70.704254</td>\n",
       "      <td>63.252282</td>\n",
       "      <td>82.057148</td>\n",
       "      <td>0</td>\n",
       "    </tr>\n",
       "    <tr>\n",
       "      <td>4</td>\n",
       "      <td>4</td>\n",
       "      <td>-5.027305</td>\n",
       "      <td>5.600857</td>\n",
       "      <td>10.312207</td>\n",
       "      <td>3.855865</td>\n",
       "      <td>-1.988057</td>\n",
       "      <td>4.749132</td>\n",
       "      <td>9.700589</td>\n",
       "      <td>1.991069</td>\n",
       "      <td>-2.491197</td>\n",
       "      <td>...</td>\n",
       "      <td>80.313460</td>\n",
       "      <td>77.703464</td>\n",
       "      <td>93.575195</td>\n",
       "      <td>104.748562</td>\n",
       "      <td>129.462818</td>\n",
       "      <td>124.996294</td>\n",
       "      <td>118.110321</td>\n",
       "      <td>108.709732</td>\n",
       "      <td>139.685624</td>\n",
       "      <td>0</td>\n",
       "    </tr>\n",
       "  </tbody>\n",
       "</table>\n",
       "<p>5 rows × 1091 columns</p>\n",
       "</div>"
      ],
      "text/plain": [
       "   Unnamed: 0      attr0     attr1      attr2      attr3      attr4  \\\n",
       "0           0  -4.049514 -5.055907   4.813832  10.975995  10.599993   \n",
       "1           1   3.514292  4.721218  -2.536391  -8.388817 -10.787064   \n",
       "2           2 -11.318180  9.405884  29.141795  21.277405  -5.122294   \n",
       "3           3  -7.143218 -9.869755  -7.905797   4.271652  22.890720   \n",
       "4           4  -5.027305  5.600857  10.312207   3.855865  -1.988057   \n",
       "\n",
       "       attr5      attr6     attr7      attr8  ...   attr1080   attr1081  \\\n",
       "0   8.103339   7.260105  3.984216  -3.352366  ...  39.055706  39.480231   \n",
       "1  -9.024258  -5.473323  7.646837  15.297336  ...  34.934308  34.224270   \n",
       "2 -21.736671 -12.850864  3.134460   7.207608  ...  86.905997  78.811334   \n",
       "3  28.454973  12.167586 -2.024773  -2.093635  ...  65.272842  63.522759   \n",
       "4   4.749132   9.700589  1.991069  -2.491197  ...  80.313460  77.703464   \n",
       "\n",
       "    attr1082    attr1083    attr1084    attr1085    attr1086    attr1087  \\\n",
       "0  48.177327   49.460693   50.797614   50.680413   44.778675   36.101397   \n",
       "1  42.633077   46.226847   49.730228   49.624121   45.398516   39.585452   \n",
       "2  84.165826   86.976997  116.149402  107.729029   96.534329   80.428859   \n",
       "3  67.886176   67.388943   93.066755   91.394297   70.704254   63.252282   \n",
       "4  93.575195  104.748562  129.462818  124.996294  118.110321  108.709732   \n",
       "\n",
       "     attr1088  attr1089  \n",
       "0   44.447948         0  \n",
       "1   45.971939         0  \n",
       "2  114.810516         0  \n",
       "3   82.057148         0  \n",
       "4  139.685624         0  \n",
       "\n",
       "[5 rows x 1091 columns]"
      ]
     },
     "execution_count": 3,
     "metadata": {},
     "output_type": "execute_result"
    }
   ],
   "source": [
    "df = pd.read_csv('Ensemble.csv')\n",
    "df.head()"
   ]
  },
  {
   "cell_type": "code",
   "execution_count": 4,
   "metadata": {},
   "outputs": [
    {
     "name": "stdout",
     "output_type": "stream",
     "text": [
      "<class 'pandas.core.frame.DataFrame'>\n",
      "RangeIndex: 7365 entries, 0 to 7364\n",
      "Columns: 1091 entries, Unnamed: 0 to attr1089\n",
      "dtypes: float64(1089), int64(2)\n",
      "memory usage: 61.3 MB\n"
     ]
    }
   ],
   "source": [
    "df.info()"
   ]
  },
  {
   "cell_type": "code",
   "execution_count": 5,
   "metadata": {},
   "outputs": [
    {
     "data": {
      "text/plain": [
       "<bound method NDFrame.describe of       Unnamed: 0      attr0      attr1      attr2      attr3      attr4  \\\n",
       "0              0  -4.049514  -5.055907   4.813832  10.975995  10.599993   \n",
       "1              1   3.514292   4.721218  -2.536391  -8.388817 -10.787064   \n",
       "2              2 -11.318180   9.405884  29.141795  21.277405  -5.122294   \n",
       "3              3  -7.143218  -9.869755  -7.905797   4.271652  22.890720   \n",
       "4              4  -5.027305   5.600857  10.312207   3.855865  -1.988057   \n",
       "...          ...        ...        ...        ...        ...        ...   \n",
       "7360        7360 -21.641000 -11.042000  -2.562000 -11.911000   2.142300   \n",
       "7361        7361   8.597800  -1.159300  20.337000  63.732000  69.359000   \n",
       "7362        7362  17.622000   5.356700   0.651150  -1.541200  -6.926900   \n",
       "7363        7363   1.319700   1.427600   1.035100   7.512700  39.739000   \n",
       "7364        7364  -7.217700 -29.306000 -58.041000 -44.226000   4.985000   \n",
       "\n",
       "          attr5      attr6      attr7      attr8  ...    attr1080    attr1081  \\\n",
       "0      8.103339   7.260105   3.984216  -3.352366  ...   39.055706   39.480231   \n",
       "1     -9.024258  -5.473323   7.646837  15.297336  ...   34.934308   34.224270   \n",
       "2    -21.736671 -12.850864   3.134460   7.207608  ...   86.905997   78.811334   \n",
       "3     28.454973  12.167586  -2.024773  -2.093635  ...   65.272842   63.522759   \n",
       "4      4.749132   9.700589   1.991069  -2.491197  ...   80.313460   77.703464   \n",
       "...         ...        ...        ...        ...  ...         ...         ...   \n",
       "7360  22.795000   4.707500  -6.641900 -31.323000  ...   60.005000   38.265000   \n",
       "7361  28.337000 -15.635000 -20.551000   7.294900  ...    3.616800    3.574700   \n",
       "7362 -24.698000  -3.213200   0.507970  -2.077500  ...   17.622000   55.794000   \n",
       "7363  39.474000   8.509900   3.847000   6.641500  ...  116.470000  106.650000   \n",
       "7364  11.244000  26.676000  24.857000 -87.552000  ...   86.872000  101.450000   \n",
       "\n",
       "        attr1082    attr1083    attr1084    attr1085    attr1086    attr1087  \\\n",
       "0      48.177327   49.460693   50.797614   50.680413   44.778675   36.101397   \n",
       "1      42.633077   46.226847   49.730228   49.624121   45.398516   39.585452   \n",
       "2      84.165826   86.976997  116.149402  107.729029   96.534329   80.428859   \n",
       "3      67.886176   67.388943   93.066755   91.394297   70.704254   63.252282   \n",
       "4      93.575195  104.748562  129.462818  124.996294  118.110321  108.709732   \n",
       "...          ...         ...         ...         ...         ...         ...   \n",
       "7360   45.812000   84.796000   16.656000   48.155000   62.828000   90.119000   \n",
       "7361    4.102800    7.609000   36.491000   29.763000   53.854000   34.383000   \n",
       "7362   65.685000   64.177000   32.138000   27.791000   19.568000   25.690000   \n",
       "7363  105.080000   97.781000  122.740000   98.219000  115.990000  102.480000   \n",
       "7364   89.485000   90.262000   57.676000   64.364000   76.773000  103.090000   \n",
       "\n",
       "        attr1088  attr1089  \n",
       "0      44.447948         0  \n",
       "1      45.971939         0  \n",
       "2     114.810516         0  \n",
       "3      82.057148         0  \n",
       "4     139.685624         0  \n",
       "...          ...       ...  \n",
       "7360   45.284000         1  \n",
       "7361   63.556000         1  \n",
       "7362   10.802000         1  \n",
       "7363  103.470000         1  \n",
       "7364   60.683000         1  \n",
       "\n",
       "[7365 rows x 1091 columns]>"
      ]
     },
     "execution_count": 5,
     "metadata": {},
     "output_type": "execute_result"
    }
   ],
   "source": [
    "df.describe"
   ]
  },
  {
   "cell_type": "code",
   "execution_count": 6,
   "metadata": {},
   "outputs": [],
   "source": [
    "X = df.drop('attr1089',1)\n",
    "y = df['attr1089']"
   ]
  },
  {
   "cell_type": "code",
   "execution_count": 7,
   "metadata": {},
   "outputs": [],
   "source": [
    "X_train, X_test, y_train, y_test = train_test_split(X,y,test_size=0.3,random_state=4)"
   ]
  },
  {
   "cell_type": "code",
   "execution_count": 8,
   "metadata": {},
   "outputs": [],
   "source": [
    "scaler = MinMaxScaler()\n",
    "scaler.fit(X_train)\n",
    "\n",
    "X_train = scaler.transform(X_train)\n",
    "X_test = scaler.transform(X_test)"
   ]
  },
  {
   "cell_type": "code",
   "execution_count": 9,
   "metadata": {},
   "outputs": [
    {
     "name": "stdout",
     "output_type": "stream",
     "text": [
      "0.4646647584547681\n"
     ]
    }
   ],
   "source": [
    "print(X_test[45,5])"
   ]
  },
  {
   "cell_type": "code",
   "execution_count": 10,
   "metadata": {},
   "outputs": [],
   "source": [
    "from sklearn.metrics import classification_report\n",
    "from sklearn.linear_model import LogisticRegression\n",
    "from sklearn.metrics import roc_auc_score"
   ]
  },
  {
   "cell_type": "code",
   "execution_count": 11,
   "metadata": {},
   "outputs": [
    {
     "name": "stdout",
     "output_type": "stream",
     "text": [
      "0.8290813547689074\n"
     ]
    },
    {
     "name": "stderr",
     "output_type": "stream",
     "text": [
      "C:\\Users\\Mrunal\\Anaconda3\\lib\\site-packages\\sklearn\\linear_model\\_logistic.py:940: ConvergenceWarning: lbfgs failed to converge (status=1):\n",
      "STOP: TOTAL NO. of ITERATIONS REACHED LIMIT.\n",
      "\n",
      "Increase the number of iterations (max_iter) or scale the data as shown in:\n",
      "    https://scikit-learn.org/stable/modules/preprocessing.html\n",
      "Please also refer to the documentation for alternative solver options:\n",
      "    https://scikit-learn.org/stable/modules/linear_model.html#logistic-regression\n",
      "  extra_warning_msg=_LOGISTIC_SOLVER_CONVERGENCE_MSG)\n"
     ]
    }
   ],
   "source": [
    "lr = LogisticRegression()\n",
    "lr.fit(X_train,y_train)\n",
    "y_pred = lr.predict(X_test)\n",
    "\n",
    "roc_score = roc_auc_score(y_test,y_pred)\n",
    "print(roc_score)"
   ]
  },
  {
   "cell_type": "code",
   "execution_count": 16,
   "metadata": {},
   "outputs": [],
   "source": [
    "from sklearn.tree import DecisionTreeClassifier\n",
    "from sklearn import tree"
   ]
  },
  {
   "cell_type": "code",
   "execution_count": 18,
   "metadata": {},
   "outputs": [
    {
     "name": "stdout",
     "output_type": "stream",
     "text": [
      "0.8710831058485897\n"
     ]
    }
   ],
   "source": [
    "dt = DecisionTreeClassifier()\n",
    "dt.fit(X_train,y_train)\n",
    "y_pred = dt.predict(X_test)\n",
    "\n",
    "roc_score = roc_auc_score(y_test,y_pred)\n",
    "print(roc_score)"
   ]
  },
  {
   "cell_type": "code",
   "execution_count": 20,
   "metadata": {},
   "outputs": [],
   "source": [
    "from sklearn.ensemble import RandomForestClassifier"
   ]
  },
  {
   "cell_type": "code",
   "execution_count": 21,
   "metadata": {},
   "outputs": [
    {
     "name": "stdout",
     "output_type": "stream",
     "text": [
      "0.9331657604133138\n"
     ]
    }
   ],
   "source": [
    "rfc = RandomForestClassifier(random_state=4)\n",
    "rfc.fit(X_train,y_train)\n",
    "y_pred = rfc.predict(X_test)\n",
    "\n",
    "roc_score = roc_auc_score(y_test,y_pred)\n",
    "print(roc_score)"
   ]
  },
  {
   "cell_type": "code",
   "execution_count": 22,
   "metadata": {},
   "outputs": [],
   "source": [
    "from sklearn.ensemble import BaggingClassifier"
   ]
  },
  {
   "cell_type": "code",
   "execution_count": 23,
   "metadata": {},
   "outputs": [
    {
     "name": "stdout",
     "output_type": "stream",
     "text": [
      "0.832579185520362\n"
     ]
    }
   ],
   "source": [
    "bagging_clf = BaggingClassifier(DecisionTreeClassifier(), n_estimators=100, max_samples=100, random_state=0)\n",
    "bagging_clf.fit(X_train,y_train)\n",
    "score_bg = bagging_clf.score(X_test,y_test)\n",
    "print(score_bg)"
   ]
  },
  {
   "cell_type": "code",
   "execution_count": 24,
   "metadata": {},
   "outputs": [],
   "source": [
    "from sklearn.ensemble import VotingClassifier"
   ]
  },
  {
   "cell_type": "code",
   "execution_count": 25,
   "metadata": {},
   "outputs": [],
   "source": [
    "clf1 = RandomForestClassifier(random_state=4)\n",
    "clf2 = LogisticRegression()\n",
    "clf3 = DecisionTreeClassifier(random_state=4)\n",
    "\n",
    "list = [('rfc',clf1),('lr',clf2),('dt',clf3)]"
   ]
  },
  {
   "cell_type": "code",
   "execution_count": 26,
   "metadata": {},
   "outputs": [
    {
     "name": "stderr",
     "output_type": "stream",
     "text": [
      "C:\\Users\\Mrunal\\Anaconda3\\lib\\site-packages\\sklearn\\linear_model\\_logistic.py:940: ConvergenceWarning: lbfgs failed to converge (status=1):\n",
      "STOP: TOTAL NO. of ITERATIONS REACHED LIMIT.\n",
      "\n",
      "Increase the number of iterations (max_iter) or scale the data as shown in:\n",
      "    https://scikit-learn.org/stable/modules/preprocessing.html\n",
      "Please also refer to the documentation for alternative solver options:\n",
      "    https://scikit-learn.org/stable/modules/linear_model.html#logistic-regression\n",
      "  extra_warning_msg=_LOGISTIC_SOLVER_CONVERGENCE_MSG)\n"
     ]
    },
    {
     "name": "stdout",
     "output_type": "stream",
     "text": [
      "0.9203619909502262\n"
     ]
    }
   ],
   "source": [
    "voting_clf = VotingClassifier(estimators=list, voting='hard')\n",
    "voting_clf.fit(X_train,y_train)\n",
    "voting_score = voting_clf.score(X_test,y_test)\n",
    "print(voting_score)"
   ]
  },
  {
   "cell_type": "code",
   "execution_count": 27,
   "metadata": {},
   "outputs": [
    {
     "name": "stderr",
     "output_type": "stream",
     "text": [
      "C:\\Users\\Mrunal\\Anaconda3\\lib\\site-packages\\sklearn\\linear_model\\_logistic.py:940: ConvergenceWarning: lbfgs failed to converge (status=1):\n",
      "STOP: TOTAL NO. of ITERATIONS REACHED LIMIT.\n",
      "\n",
      "Increase the number of iterations (max_iter) or scale the data as shown in:\n",
      "    https://scikit-learn.org/stable/modules/preprocessing.html\n",
      "Please also refer to the documentation for alternative solver options:\n",
      "    https://scikit-learn.org/stable/modules/linear_model.html#logistic-regression\n",
      "  extra_warning_msg=_LOGISTIC_SOLVER_CONVERGENCE_MSG)\n"
     ]
    },
    {
     "name": "stdout",
     "output_type": "stream",
     "text": [
      "0.9063348416289593\n"
     ]
    }
   ],
   "source": [
    "voting_clf_soft = VotingClassifier(estimators=list, voting='soft')\n",
    "voting_clf_soft.fit(X_train,y_train)\n",
    "voting_score1 = voting_clf_soft.score(X_test,y_test)\n",
    "print(voting_score1)"
   ]
  },
  {
   "cell_type": "code",
   "execution_count": null,
   "metadata": {},
   "outputs": [],
   "source": []
  }
 ],
 "metadata": {
  "kernelspec": {
   "display_name": "Python 3",
   "language": "python",
   "name": "python3"
  },
  "language_info": {
   "codemirror_mode": {
    "name": "ipython",
    "version": 3
   },
   "file_extension": ".py",
   "mimetype": "text/x-python",
   "name": "python",
   "nbconvert_exporter": "python",
   "pygments_lexer": "ipython3",
   "version": "3.7.4"
  }
 },
 "nbformat": 4,
 "nbformat_minor": 2
}
