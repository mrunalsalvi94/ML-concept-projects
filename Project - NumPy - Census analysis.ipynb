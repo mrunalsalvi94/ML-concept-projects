{
 "cells": [
  {
   "cell_type": "code",
   "execution_count": 1,
   "metadata": {},
   "outputs": [],
   "source": [
    "import numpy as np\n",
    "import pandas as pd\n",
    "import matplotlib.pyplot as plt"
   ]
  },
  {
   "cell_type": "code",
   "execution_count": 2,
   "metadata": {},
   "outputs": [],
   "source": [
    "data_file='Census.csv'"
   ]
  },
  {
   "cell_type": "code",
   "execution_count": 3,
   "metadata": {},
   "outputs": [],
   "source": [
    "data = np.genfromtxt(data_file,delimiter=\",\", skip_header=1)"
   ]
  },
  {
   "cell_type": "code",
   "execution_count": 4,
   "metadata": {},
   "outputs": [],
   "source": [
    "new_record=[[50,  9,  4,  1,  0,  0, 40,  0]]\n",
    "census = np.concatenate((data,new_record),axis=0)"
   ]
  },
  {
   "cell_type": "code",
   "execution_count": 5,
   "metadata": {},
   "outputs": [
    {
     "name": "stdout",
     "output_type": "stream",
     "text": [
      "(1000, 8)\n",
      "(1001, 8)\n"
     ]
    }
   ],
   "source": [
    "print(data.shape)\n",
    "print(census.shape)"
   ]
  },
  {
   "cell_type": "code",
   "execution_count": 6,
   "metadata": {},
   "outputs": [],
   "source": [
    "age = census[:,0]"
   ]
  },
  {
   "cell_type": "code",
   "execution_count": 7,
   "metadata": {},
   "outputs": [
    {
     "name": "stdout",
     "output_type": "stream",
     "text": [
      "90.0\n",
      "17.0\n",
      "38.06293706293706\n",
      "13.341478176165857\n"
     ]
    }
   ],
   "source": [
    "max_age=age.max(axis=0)\n",
    "print(max_age)\n",
    "\n",
    "min_age=age.min()\n",
    "print(min_age)\n",
    "\n",
    "age_mean = age.mean()\n",
    "print(age_mean)\n",
    "\n",
    "age_std = np.std(age)\n",
    "print(age_std)"
   ]
  },
  {
   "cell_type": "code",
   "execution_count": 8,
   "metadata": {},
   "outputs": [],
   "source": [
    "race_0 = census[census[:,2]==0]\n",
    "race_1 = census[census[:,2]==1]\n",
    "race_2 = census[census[:,2]==2]\n",
    "race_3 = census[census[:,2]==3]\n",
    "race_4 = census[census[:,2]==4]"
   ]
  },
  {
   "cell_type": "code",
   "execution_count": 9,
   "metadata": {},
   "outputs": [],
   "source": [
    "len_0 = len(race_0)\n",
    "len_1 = len(race_1)\n",
    "len_2 = len(race_2)\n",
    "len_3 = len(race_3)\n",
    "len_4 = len(race_4)"
   ]
  },
  {
   "cell_type": "code",
   "execution_count": 10,
   "metadata": {},
   "outputs": [],
   "source": [
    "race_list = [len_0, len_1,len_2, len_3, len_4]"
   ]
  },
  {
   "cell_type": "code",
   "execution_count": 11,
   "metadata": {},
   "outputs": [
    {
     "name": "stdout",
     "output_type": "stream",
     "text": [
      "3\n"
     ]
    }
   ],
   "source": [
    "minority_list = race_list.index(min(race_list))\n",
    "print(minority_list)"
   ]
  },
  {
   "cell_type": "code",
   "execution_count": 12,
   "metadata": {},
   "outputs": [
    {
     "name": "stdout",
     "output_type": "stream",
     "text": [
      "[[7.9000e+01 1.0000e+01 4.0000e+00 1.0000e+00 0.0000e+00 0.0000e+00\n",
      "  2.0000e+01 0.0000e+00]\n",
      " [6.7000e+01 6.0000e+00 4.0000e+00 1.0000e+00 0.0000e+00 0.0000e+00\n",
      "  2.0000e+00 0.0000e+00]\n",
      " [7.6000e+01 1.4000e+01 4.0000e+00 1.0000e+00 0.0000e+00 0.0000e+00\n",
      "  4.0000e+01 1.0000e+00]\n",
      " [6.1000e+01 9.0000e+00 4.0000e+00 1.0000e+00 0.0000e+00 0.0000e+00\n",
      "  4.0000e+01 0.0000e+00]\n",
      " [7.0000e+01 1.0000e+01 4.0000e+00 1.0000e+00 0.0000e+00 0.0000e+00\n",
      "  4.0000e+01 0.0000e+00]\n",
      " [6.4000e+01 7.0000e+00 4.0000e+00 1.0000e+00 0.0000e+00 2.1790e+03\n",
      "  4.0000e+01 0.0000e+00]\n",
      " [7.1000e+01 1.0000e+01 2.0000e+00 1.0000e+00 0.0000e+00 1.8160e+03\n",
      "  2.0000e+00 0.0000e+00]\n",
      " [6.8000e+01 2.0000e+00 4.0000e+00 0.0000e+00 0.0000e+00 0.0000e+00\n",
      "  2.0000e+01 0.0000e+00]\n",
      " [6.6000e+01 1.1000e+01 4.0000e+00 0.0000e+00 0.0000e+00 0.0000e+00\n",
      "  2.0000e+01 0.0000e+00]\n",
      " [6.4000e+01 2.0000e+00 4.0000e+00 1.0000e+00 0.0000e+00 0.0000e+00\n",
      "  4.0000e+01 0.0000e+00]\n",
      " [9.0000e+01 9.0000e+00 2.0000e+00 1.0000e+00 0.0000e+00 2.2060e+03\n",
      "  4.0000e+01 0.0000e+00]\n",
      " [6.6000e+01 9.0000e+00 4.0000e+00 1.0000e+00 1.4090e+03 0.0000e+00\n",
      "  5.0000e+01 0.0000e+00]\n",
      " [7.5000e+01 1.1000e+01 4.0000e+00 0.0000e+00 0.0000e+00 0.0000e+00\n",
      "  2.0000e+01 0.0000e+00]\n",
      " [6.5000e+01 9.0000e+00 4.0000e+00 0.0000e+00 0.0000e+00 0.0000e+00\n",
      "  4.0000e+01 0.0000e+00]\n",
      " [6.4000e+01 9.0000e+00 4.0000e+00 1.0000e+00 0.0000e+00 0.0000e+00\n",
      "  4.0000e+01 1.0000e+00]\n",
      " [6.1000e+01 9.0000e+00 4.0000e+00 1.0000e+00 0.0000e+00 0.0000e+00\n",
      "  4.0000e+01 1.0000e+00]\n",
      " [6.5000e+01 9.0000e+00 4.0000e+00 1.0000e+00 0.0000e+00 0.0000e+00\n",
      "  1.6000e+01 0.0000e+00]\n",
      " [7.7000e+01 1.0000e+01 4.0000e+00 1.0000e+00 0.0000e+00 0.0000e+00\n",
      "  4.0000e+01 0.0000e+00]\n",
      " [6.2000e+01 9.0000e+00 4.0000e+00 0.0000e+00 0.0000e+00 0.0000e+00\n",
      "  2.4000e+01 0.0000e+00]\n",
      " [7.6000e+01 1.4000e+01 4.0000e+00 1.0000e+00 0.0000e+00 0.0000e+00\n",
      "  1.0000e+01 0.0000e+00]\n",
      " [6.3000e+01 9.0000e+00 4.0000e+00 1.0000e+00 0.0000e+00 0.0000e+00\n",
      "  4.5000e+01 0.0000e+00]\n",
      " [6.6000e+01 9.0000e+00 4.0000e+00 1.0000e+00 2.0500e+03 0.0000e+00\n",
      "  5.5000e+01 0.0000e+00]\n",
      " [6.7000e+01 7.0000e+00 4.0000e+00 1.0000e+00 0.0000e+00 0.0000e+00\n",
      "  8.0000e+00 0.0000e+00]\n",
      " [6.5000e+01 7.0000e+00 3.0000e+00 1.0000e+00 0.0000e+00 0.0000e+00\n",
      "  4.0000e+01 0.0000e+00]\n",
      " [6.2000e+01 1.4000e+01 4.0000e+00 1.0000e+00 0.0000e+00 0.0000e+00\n",
      "  4.0000e+01 1.0000e+00]\n",
      " [6.3000e+01 9.0000e+00 4.0000e+00 1.0000e+00 0.0000e+00 0.0000e+00\n",
      "  4.0000e+01 1.0000e+00]\n",
      " [8.0000e+01 9.0000e+00 4.0000e+00 1.0000e+00 0.0000e+00 0.0000e+00\n",
      "  2.4000e+01 0.0000e+00]\n",
      " [6.7000e+01 1.1000e+01 4.0000e+00 0.0000e+00 0.0000e+00 0.0000e+00\n",
      "  2.4000e+01 0.0000e+00]\n",
      " [6.3000e+01 2.0000e+00 4.0000e+00 1.0000e+00 0.0000e+00 0.0000e+00\n",
      "  3.5000e+01 0.0000e+00]\n",
      " [7.2000e+01 9.0000e+00 4.0000e+00 1.0000e+00 0.0000e+00 0.0000e+00\n",
      "  2.0000e+01 0.0000e+00]\n",
      " [6.2000e+01 9.0000e+00 4.0000e+00 1.0000e+00 0.0000e+00 0.0000e+00\n",
      "  4.0000e+01 0.0000e+00]\n",
      " [7.4000e+01 1.0000e+01 4.0000e+00 0.0000e+00 0.0000e+00 0.0000e+00\n",
      "  9.0000e+00 0.0000e+00]\n",
      " [6.7000e+01 1.5000e+01 4.0000e+00 1.0000e+00 2.0051e+04 0.0000e+00\n",
      "  4.8000e+01 1.0000e+00]\n",
      " [7.2000e+01 7.0000e+00 4.0000e+00 0.0000e+00 0.0000e+00 0.0000e+00\n",
      "  4.0000e+01 0.0000e+00]\n",
      " [6.9000e+01 7.0000e+00 4.0000e+00 0.0000e+00 0.0000e+00 0.0000e+00\n",
      "  4.0000e+01 0.0000e+00]\n",
      " [6.5000e+01 1.0000e+01 4.0000e+00 1.0000e+00 0.0000e+00 0.0000e+00\n",
      "  3.0000e+01 1.0000e+00]\n",
      " [6.5000e+01 5.0000e+00 2.0000e+00 0.0000e+00 0.0000e+00 0.0000e+00\n",
      "  2.4000e+01 0.0000e+00]\n",
      " [7.1000e+01 9.0000e+00 4.0000e+00 1.0000e+00 0.0000e+00 0.0000e+00\n",
      "  1.5000e+01 0.0000e+00]\n",
      " [7.0000e+01 5.0000e+00 4.0000e+00 0.0000e+00 1.1110e+03 0.0000e+00\n",
      "  1.5000e+01 0.0000e+00]\n",
      " [6.6000e+01 4.0000e+00 4.0000e+00 1.0000e+00 0.0000e+00 0.0000e+00\n",
      "  4.0000e+00 0.0000e+00]\n",
      " [6.5000e+01 7.0000e+00 4.0000e+00 1.0000e+00 9.3860e+03 0.0000e+00\n",
      "  5.9000e+01 1.0000e+00]\n",
      " [6.1000e+01 9.0000e+00 4.0000e+00 1.0000e+00 0.0000e+00 2.3520e+03\n",
      "  5.0000e+01 0.0000e+00]\n",
      " [6.1000e+01 9.0000e+00 4.0000e+00 1.0000e+00 0.0000e+00 0.0000e+00\n",
      "  4.0000e+01 0.0000e+00]\n",
      " [6.8000e+01 7.0000e+00 4.0000e+00 1.0000e+00 0.0000e+00 0.0000e+00\n",
      "  2.0000e+01 0.0000e+00]\n",
      " [6.4000e+01 1.3000e+01 4.0000e+00 1.0000e+00 0.0000e+00 0.0000e+00\n",
      "  4.0000e+01 1.0000e+00]\n",
      " [6.4000e+01 9.0000e+00 4.0000e+00 1.0000e+00 0.0000e+00 0.0000e+00\n",
      "  4.5000e+01 0.0000e+00]\n",
      " [6.2000e+01 9.0000e+00 4.0000e+00 0.0000e+00 0.0000e+00 0.0000e+00\n",
      "  4.0000e+01 0.0000e+00]\n",
      " [7.3000e+01 9.0000e+00 4.0000e+00 1.0000e+00 0.0000e+00 0.0000e+00\n",
      "  4.0000e+01 0.0000e+00]\n",
      " [7.2000e+01 7.0000e+00 4.0000e+00 0.0000e+00 0.0000e+00 0.0000e+00\n",
      "  2.4000e+01 0.0000e+00]\n",
      " [6.3000e+01 9.0000e+00 4.0000e+00 1.0000e+00 0.0000e+00 0.0000e+00\n",
      "  6.0000e+00 0.0000e+00]\n",
      " [6.2000e+01 1.3000e+01 4.0000e+00 0.0000e+00 0.0000e+00 0.0000e+00\n",
      "  4.8000e+01 0.0000e+00]\n",
      " [6.1000e+01 1.4000e+01 4.0000e+00 0.0000e+00 0.0000e+00 0.0000e+00\n",
      "  4.0000e+01 1.0000e+00]\n",
      " [7.1000e+01 1.4000e+01 4.0000e+00 1.0000e+00 1.0605e+04 0.0000e+00\n",
      "  4.0000e+01 1.0000e+00]\n",
      " [6.3000e+01 1.0000e+01 4.0000e+00 1.0000e+00 0.0000e+00 0.0000e+00\n",
      "  1.5000e+01 0.0000e+00]\n",
      " [6.3000e+01 4.0000e+00 4.0000e+00 1.0000e+00 0.0000e+00 0.0000e+00\n",
      "  5.5000e+01 0.0000e+00]\n",
      " [6.7000e+01 9.0000e+00 1.0000e+00 1.0000e+00 0.0000e+00 0.0000e+00\n",
      "  4.0000e+01 1.0000e+00]\n",
      " [8.1000e+01 9.0000e+00 4.0000e+00 1.0000e+00 0.0000e+00 0.0000e+00\n",
      "  3.0000e+01 0.0000e+00]\n",
      " [6.4000e+01 9.0000e+00 4.0000e+00 1.0000e+00 0.0000e+00 0.0000e+00\n",
      "  5.0000e+00 0.0000e+00]\n",
      " [6.7000e+01 1.3000e+01 4.0000e+00 1.0000e+00 0.0000e+00 2.3920e+03\n",
      "  4.0000e+01 1.0000e+00]\n",
      " [7.8000e+01 9.0000e+00 2.0000e+00 0.0000e+00 2.9640e+03 0.0000e+00\n",
      "  4.0000e+01 0.0000e+00]\n",
      " [6.3000e+01 1.1000e+01 4.0000e+00 0.0000e+00 0.0000e+00 0.0000e+00\n",
      "  2.0000e+01 0.0000e+00]]\n",
      "61\n"
     ]
    }
   ],
   "source": [
    "senior_citizens = census[census[:,0]>60]\n",
    "print(senior_citizens)\n",
    "\n",
    "senior_citizens_len = len(senior_citizens)\n",
    "print(senior_citizens_len)"
   ]
  },
  {
   "cell_type": "code",
   "execution_count": 13,
   "metadata": {},
   "outputs": [],
   "source": [
    "working_hours_sum = senior_citizens.sum(axis=0)[6]"
   ]
  },
  {
   "cell_type": "code",
   "execution_count": 14,
   "metadata": {},
   "outputs": [
    {
     "name": "stdout",
     "output_type": "stream",
     "text": [
      "1917.0\n"
     ]
    }
   ],
   "source": [
    "print(working_hours_sum)"
   ]
  },
  {
   "cell_type": "code",
   "execution_count": 15,
   "metadata": {},
   "outputs": [],
   "source": [
    "avg_working_hours = working_hours_sum/senior_citizens_len"
   ]
  },
  {
   "cell_type": "code",
   "execution_count": 16,
   "metadata": {},
   "outputs": [
    {
     "name": "stdout",
     "output_type": "stream",
     "text": [
      "31.42622950819672\n"
     ]
    }
   ],
   "source": [
    "print(avg_working_hours)"
   ]
  },
  {
   "cell_type": "code",
   "execution_count": 17,
   "metadata": {},
   "outputs": [],
   "source": [
    "high = census[census[:,1]>10]\n",
    "low = census[census[:,1]<=10]"
   ]
  },
  {
   "cell_type": "code",
   "execution_count": 18,
   "metadata": {},
   "outputs": [
    {
     "name": "stdout",
     "output_type": "stream",
     "text": [
      "0.42813455657492355\n",
      "0.13649851632047477\n"
     ]
    }
   ],
   "source": [
    "avg_pay_high = np.mean(high, axis=0)[7]\n",
    "print(avg_pay_high)\n",
    "\n",
    "avg_pay_low = np.mean(low,axis=0)[7]\n",
    "print(avg_pay_low)"
   ]
  },
  {
   "cell_type": "code",
   "execution_count": null,
   "metadata": {},
   "outputs": [],
   "source": []
  }
 ],
 "metadata": {
  "kernelspec": {
   "display_name": "Python 3",
   "language": "python",
   "name": "python3"
  },
  "language_info": {
   "codemirror_mode": {
    "name": "ipython",
    "version": 3
   },
   "file_extension": ".py",
   "mimetype": "text/x-python",
   "name": "python",
   "nbconvert_exporter": "python",
   "pygments_lexer": "ipython3",
   "version": "3.7.4"
  }
 },
 "nbformat": 4,
 "nbformat_minor": 2
}
