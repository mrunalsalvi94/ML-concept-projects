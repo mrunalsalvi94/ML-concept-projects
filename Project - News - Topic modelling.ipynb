{
 "cells": [
  {
   "cell_type": "code",
   "execution_count": 1,
   "metadata": {},
   "outputs": [],
   "source": [
    "import numpy as np\n",
    "import pandas as pd\n",
    "import re"
   ]
  },
  {
   "cell_type": "code",
   "execution_count": 2,
   "metadata": {},
   "outputs": [
    {
     "data": {
      "text/plain": [
       "'C:\\\\Users\\\\Mrunal\\\\Documents'"
      ]
     },
     "execution_count": 2,
     "metadata": {},
     "output_type": "execute_result"
    }
   ],
   "source": [
    "import os\n",
    "os.getcwd()"
   ]
  },
  {
   "cell_type": "code",
   "execution_count": 5,
   "metadata": {},
   "outputs": [],
   "source": [
    "data = pd.read_csv(r'C:\\\\Users\\\\Mrunal\\\\Documents\\\\TopicModellingProjectNews.csv', parse_dates=[0], infer_datetime_format=True)"
   ]
  },
  {
   "cell_type": "code",
   "execution_count": 6,
   "metadata": {},
   "outputs": [
    {
     "data": {
      "text/html": [
       "<div>\n",
       "<style scoped>\n",
       "    .dataframe tbody tr th:only-of-type {\n",
       "        vertical-align: middle;\n",
       "    }\n",
       "\n",
       "    .dataframe tbody tr th {\n",
       "        vertical-align: top;\n",
       "    }\n",
       "\n",
       "    .dataframe thead th {\n",
       "        text-align: right;\n",
       "    }\n",
       "</style>\n",
       "<table border=\"1\" class=\"dataframe\">\n",
       "  <thead>\n",
       "    <tr style=\"text-align: right;\">\n",
       "      <th></th>\n",
       "      <th>publish_date</th>\n",
       "      <th>headline_text</th>\n",
       "    </tr>\n",
       "  </thead>\n",
       "  <tbody>\n",
       "    <tr>\n",
       "      <td>0</td>\n",
       "      <td>2005-03-27</td>\n",
       "      <td>baxter protesters forced us to act police</td>\n",
       "    </tr>\n",
       "    <tr>\n",
       "      <td>1</td>\n",
       "      <td>2008-09-04</td>\n",
       "      <td>crash woman in critical condition</td>\n",
       "    </tr>\n",
       "    <tr>\n",
       "      <td>2</td>\n",
       "      <td>2006-05-03</td>\n",
       "      <td>rain forces fuel reduction burns rethink</td>\n",
       "    </tr>\n",
       "    <tr>\n",
       "      <td>3</td>\n",
       "      <td>2008-07-16</td>\n",
       "      <td>govt still pushing for highway funding lucas</td>\n",
       "    </tr>\n",
       "    <tr>\n",
       "      <td>4</td>\n",
       "      <td>2009-02-19</td>\n",
       "      <td>south east farm owner named sas top rural woman</td>\n",
       "    </tr>\n",
       "  </tbody>\n",
       "</table>\n",
       "</div>"
      ],
      "text/plain": [
       "  publish_date                                    headline_text\n",
       "0   2005-03-27        baxter protesters forced us to act police\n",
       "1   2008-09-04                crash woman in critical condition\n",
       "2   2006-05-03         rain forces fuel reduction burns rethink\n",
       "3   2008-07-16     govt still pushing for highway funding lucas\n",
       "4   2009-02-19  south east farm owner named sas top rural woman"
      ]
     },
     "execution_count": 6,
     "metadata": {},
     "output_type": "execute_result"
    }
   ],
   "source": [
    "data.head()"
   ]
  },
  {
   "cell_type": "code",
   "execution_count": 7,
   "metadata": {},
   "outputs": [],
   "source": [
    "data.sort_values('publish_date',inplace=True)"
   ]
  },
  {
   "cell_type": "code",
   "execution_count": 8,
   "metadata": {},
   "outputs": [
    {
     "data": {
      "text/html": [
       "<div>\n",
       "<style scoped>\n",
       "    .dataframe tbody tr th:only-of-type {\n",
       "        vertical-align: middle;\n",
       "    }\n",
       "\n",
       "    .dataframe tbody tr th {\n",
       "        vertical-align: top;\n",
       "    }\n",
       "\n",
       "    .dataframe thead th {\n",
       "        text-align: right;\n",
       "    }\n",
       "</style>\n",
       "<table border=\"1\" class=\"dataframe\">\n",
       "  <thead>\n",
       "    <tr style=\"text-align: right;\">\n",
       "      <th></th>\n",
       "      <th>publish_date</th>\n",
       "      <th>headline_text</th>\n",
       "    </tr>\n",
       "  </thead>\n",
       "  <tbody>\n",
       "    <tr>\n",
       "      <td>286211</td>\n",
       "      <td>2003-02-19</td>\n",
       "      <td>police defend aboriginal tent embassy raid</td>\n",
       "    </tr>\n",
       "    <tr>\n",
       "      <td>180156</td>\n",
       "      <td>2003-02-19</td>\n",
       "      <td>talk of asian nuclear arms race unhelpful downer</td>\n",
       "    </tr>\n",
       "    <tr>\n",
       "      <td>233845</td>\n",
       "      <td>2003-02-19</td>\n",
       "      <td>taipans placing future in publics hands</td>\n",
       "    </tr>\n",
       "    <tr>\n",
       "      <td>170928</td>\n",
       "      <td>2003-02-19</td>\n",
       "      <td>most highly educated live in nsw wa</td>\n",
       "    </tr>\n",
       "    <tr>\n",
       "      <td>245529</td>\n",
       "      <td>2003-02-19</td>\n",
       "      <td>six palestinians killed in gaza incursion</td>\n",
       "    </tr>\n",
       "  </tbody>\n",
       "</table>\n",
       "</div>"
      ],
      "text/plain": [
       "       publish_date                                     headline_text\n",
       "286211   2003-02-19        police defend aboriginal tent embassy raid\n",
       "180156   2003-02-19  talk of asian nuclear arms race unhelpful downer\n",
       "233845   2003-02-19           taipans placing future in publics hands\n",
       "170928   2003-02-19               most highly educated live in nsw wa\n",
       "245529   2003-02-19         six palestinians killed in gaza incursion"
      ]
     },
     "execution_count": 8,
     "metadata": {},
     "output_type": "execute_result"
    }
   ],
   "source": [
    "data.head()"
   ]
  },
  {
   "cell_type": "code",
   "execution_count": 9,
   "metadata": {},
   "outputs": [],
   "source": [
    "#Remove numbers in the headline_text column\n",
    "\n",
    "data['headline_text'] = data['headline_text'].apply(lambda x: re.sub('[^a-zA-Z]', ' ',x))"
   ]
  },
  {
   "cell_type": "code",
   "execution_count": 10,
   "metadata": {},
   "outputs": [
    {
     "data": {
      "text/html": [
       "<div>\n",
       "<style scoped>\n",
       "    .dataframe tbody tr th:only-of-type {\n",
       "        vertical-align: middle;\n",
       "    }\n",
       "\n",
       "    .dataframe tbody tr th {\n",
       "        vertical-align: top;\n",
       "    }\n",
       "\n",
       "    .dataframe thead th {\n",
       "        text-align: right;\n",
       "    }\n",
       "</style>\n",
       "<table border=\"1\" class=\"dataframe\">\n",
       "  <thead>\n",
       "    <tr style=\"text-align: right;\">\n",
       "      <th></th>\n",
       "      <th>publish_date</th>\n",
       "      <th>headline_text</th>\n",
       "    </tr>\n",
       "  </thead>\n",
       "  <tbody>\n",
       "    <tr>\n",
       "      <td>286211</td>\n",
       "      <td>2003-02-19</td>\n",
       "      <td>police defend aboriginal tent embassy raid</td>\n",
       "    </tr>\n",
       "    <tr>\n",
       "      <td>180156</td>\n",
       "      <td>2003-02-19</td>\n",
       "      <td>talk of asian nuclear arms race unhelpful downer</td>\n",
       "    </tr>\n",
       "    <tr>\n",
       "      <td>233845</td>\n",
       "      <td>2003-02-19</td>\n",
       "      <td>taipans placing future in publics hands</td>\n",
       "    </tr>\n",
       "    <tr>\n",
       "      <td>170928</td>\n",
       "      <td>2003-02-19</td>\n",
       "      <td>most highly educated live in nsw wa</td>\n",
       "    </tr>\n",
       "    <tr>\n",
       "      <td>245529</td>\n",
       "      <td>2003-02-19</td>\n",
       "      <td>six palestinians killed in gaza incursion</td>\n",
       "    </tr>\n",
       "  </tbody>\n",
       "</table>\n",
       "</div>"
      ],
      "text/plain": [
       "       publish_date                                     headline_text\n",
       "286211   2003-02-19        police defend aboriginal tent embassy raid\n",
       "180156   2003-02-19  talk of asian nuclear arms race unhelpful downer\n",
       "233845   2003-02-19           taipans placing future in publics hands\n",
       "170928   2003-02-19               most highly educated live in nsw wa\n",
       "245529   2003-02-19         six palestinians killed in gaza incursion"
      ]
     },
     "execution_count": 10,
     "metadata": {},
     "output_type": "execute_result"
    }
   ],
   "source": [
    "data.head()"
   ]
  },
  {
   "cell_type": "code",
   "execution_count": 11,
   "metadata": {},
   "outputs": [
    {
     "name": "stdout",
     "output_type": "stream",
     "text": [
      "(331100, 2)\n"
     ]
    }
   ],
   "source": [
    "print(data.shape)"
   ]
  },
  {
   "cell_type": "code",
   "execution_count": 12,
   "metadata": {},
   "outputs": [],
   "source": [
    "import matplotlib.pyplot as plt\n",
    "import seaborn as sns\n",
    "from sklearn.feature_extraction.text import CountVectorizer\n",
    "import operator"
   ]
  },
  {
   "cell_type": "code",
   "execution_count": 13,
   "metadata": {},
   "outputs": [],
   "source": [
    "vectorizer = CountVectorizer(max_features=300000, stop_words='english')"
   ]
  },
  {
   "cell_type": "code",
   "execution_count": 14,
   "metadata": {},
   "outputs": [],
   "source": [
    "news = vectorizer.fit_transform(data['headline_text'])"
   ]
  },
  {
   "cell_type": "code",
   "execution_count": 15,
   "metadata": {},
   "outputs": [],
   "source": [
    "words = {}\n",
    "i = 0\n",
    "\n",
    "sums = np.array(np.sum(news, axis=0)).flatten()\n",
    "\n",
    "for word in vectorizer.get_feature_names():\n",
    "    words[word] = sums[i]\n",
    "    i += 1"
   ]
  },
  {
   "cell_type": "code",
   "execution_count": 16,
   "metadata": {},
   "outputs": [],
   "source": [
    "top_20 = sorted(words.items(), key=operator.itemgetter(1), reverse=True)[:20]\n",
    "top_20_words = [i[0] for i in top_20]\n",
    "top_20_values = [i[1] for i in top_20]"
   ]
  },
  {
   "cell_type": "code",
   "execution_count": 17,
   "metadata": {},
   "outputs": [
    {
     "data": {
      "image/png": "[encoded data removed]",
      "text/plain": [
       "<Figure size 1440x720 with 1 Axes>"
      ]
     },
     "metadata": {
      "needs_background": "light"
     },
     "output_type": "display_data"
    }
   ],
   "source": [
    "plt.figure(figsize=(20,10))\n",
    "sns.barplot(top_20_words, top_20_values)\n",
    "plt.show()"
   ]
  },
  {
   "cell_type": "code",
   "execution_count": 18,
   "metadata": {},
   "outputs": [],
   "source": [
    "from sklearn.decomposition import TruncatedSVD, LatentDirichletAllocation\n",
    "from pprint import pprint"
   ]
  },
  {
   "cell_type": "code",
   "execution_count": 19,
   "metadata": {},
   "outputs": [],
   "source": [
    "#LSA\n",
    "\n",
    "lsa_model = TruncatedSVD(n_components=5, random_state=2)\n",
    "\n",
    "lsa_topic_matrix = lsa_model.fit_transform(news)"
   ]
  },
  {
   "cell_type": "code",
   "execution_count": 20,
   "metadata": {},
   "outputs": [],
   "source": [
    "topic_lsa = {}\n",
    "\n",
    "# loop over every topic\n",
    "for i, topic in enumerate(lsa_model.components_):\n",
    "    key = \"Topic {}\".format(i)\n",
    "    value = [(vectorizer.get_feature_names()[i] + '*' + str(topic[i])) for i in topic.argsort()[:-11:-1]]\n",
    "    topic_lsa[key] = ' + '.join(value)"
   ]
  },
  {
   "cell_type": "code",
   "execution_count": 21,
   "metadata": {},
   "outputs": [
    {
     "name": "stdout",
     "output_type": "stream",
     "text": [
      "{'Topic 0': 'police*0.860146519528726 + man*0.37680209605611636 + '\n",
      "            'new*0.12276960235703452 + court*0.0871501958037979 + '\n",
      "            'charged*0.07911332117219014 + murder*0.0708567680776744 + '\n",
      "            'car*0.06811943055778308 + crash*0.06589958252111043 + '\n",
      "            'death*0.06545880081713176 + missing*0.06459743745740622',\n",
      " 'Topic 1': 'man*0.7866207286777266 + new*0.1959997703374943 + '\n",
      "            'court*0.18925530373771432 + charged*0.16433089665150535 + '\n",
      "            'murder*0.09513426959152241 + accused*0.06832348216999748 + '\n",
      "            'dies*0.06043438939557508 + jailed*0.053117038383894255 + '\n",
      "            'guilty*0.0483519676795715 + face*0.04493989265211522',\n",
      " 'Topic 2': 'new*0.9352197290094992 + says*0.07760668982523405 + '\n",
      "            'council*0.07247112686162205 + govt*0.06924510058347283 + '\n",
      "            'plan*0.04291795198705799 + zealand*0.040906582820881755 + '\n",
      "            'australia*0.03686755127150798 + laws*0.03484667553467118 + '\n",
      "            'water*0.03186125213797231 + health*0.03161475132371275',\n",
      " 'Topic 3': 'says*0.8022764645918962 + govt*0.34287651323764495 + '\n",
      "            'council*0.17730217881510466 + plan*0.10429277443747126 + '\n",
      "            'nsw*0.09605522409353208 + water*0.09026786467679011 + '\n",
      "            'wa*0.0804580788692982 + qld*0.07290395060401722 + '\n",
      "            'health*0.07155000094363159 + australia*0.06408826216955331',\n",
      " 'Topic 4': 'govt*0.5831860465488299 + council*0.30464389650262524 + '\n",
      "            'court*0.20343507394250923 + plan*0.16106544893383215 + '\n",
      "            'nsw*0.15773832444993718 + water*0.14060111166625372 + '\n",
      "            'qld*0.12213106445683819 + urged*0.1154036233900872 + '\n",
      "            'health*0.09218304346991425 + wa*0.06772373810434343'}\n"
     ]
    }
   ],
   "source": [
    "pprint(topic_lsa)"
   ]
  },
  {
   "cell_type": "code",
   "execution_count": 22,
   "metadata": {},
   "outputs": [],
   "source": [
    "import nltk\n",
    "import gensim\n",
    "import gensim.corpora as corpora\n",
    "from gensim.utils import simple_preprocess\n",
    "from gensim.models import CoherenceModel\n",
    "from gensim.models.ldamodel import LdaModel\n",
    "from gensim.utils import simple_preprocess\n",
    "from nltk import word_tokenize\n",
    "from nltk.corpus import stopwords \n",
    "from nltk.stem.wordnet import WordNetLemmatizer\n",
    "import string\n",
    "import matplotlib.pyplot as plt"
   ]
  },
  {
   "cell_type": "code",
   "execution_count": 23,
   "metadata": {},
   "outputs": [],
   "source": [
    "stop = set(stopwords.words('english'))\n",
    "exclude = set(string.punctuation)\n",
    "lemma = WordNetLemmatizer()\n",
    "\n",
    "def clean(doc):\n",
    "    stop_free = \" \".join([i for i in doc.lower().split() if i not in stop])\n",
    "    punc_free = ''.join(ch for ch in stop_free if ch not in exclude)\n",
    "    normalized = \" \".join(lemma.lemmatize(word) for word in punc_free.split())\n",
    "    return normalized"
   ]
  },
  {
   "cell_type": "code",
   "execution_count": 25,
   "metadata": {},
   "outputs": [
    {
     "name": "stdout",
     "output_type": "stream",
     "text": [
      "[(0,\n",
      "  '0.013*\"australia\" + 0.011*\"south\" + 0.011*\"adelaide\" + 0.009*\"election\" + '\n",
      "  '0.009*\"first\" + 0.008*\"new\" + 0.008*\"council\" + 0.008*\"open\" + 0.008*\"take\" '\n",
      "  '+ 0.007*\"turnbull\"'),\n",
      " (1,\n",
      "  '0.014*\"new\" + 0.013*\"wa\" + 0.013*\"nsw\" + 0.012*\"government\" + 0.011*\"call\" '\n",
      "  '+ 0.011*\"queensland\" + 0.010*\"say\" + 0.008*\"canberra\" + 0.008*\"sa\" + '\n",
      "  '0.008*\"school\"'),\n",
      " (2,\n",
      "  '0.017*\"man\" + 0.016*\"police\" + 0.015*\"woman\" + 0.010*\"death\" + '\n",
      "  '0.010*\"world\" + 0.010*\"sydney\" + 0.008*\"perth\" + 0.008*\"day\" + 0.008*\"one\" '\n",
      "  '+ 0.008*\"year\"'),\n",
      " (3,\n",
      "  '0.017*\"trump\" + 0.015*\"u\" + 0.014*\"say\" + 0.012*\"child\" + 0.012*\"melbourne\" '\n",
      "  '+ 0.008*\"australian\" + 0.008*\"australia\" + 0.007*\"donald\" + 0.007*\"china\" + '\n",
      "  '0.007*\"interview\"'),\n",
      " (4,\n",
      "  '0.012*\"court\" + 0.009*\"murder\" + 0.009*\"sex\" + 0.008*\"market\" + '\n",
      "  '0.008*\"family\" + 0.008*\"change\" + 0.007*\"help\" + 0.007*\"australian\" + '\n",
      "  '0.006*\"job\" + 0.006*\"cut\"')]\n"
     ]
    }
   ],
   "source": [
    "#1 - Create all text list\n",
    "headlines = data['headline_text'].tolist()\n",
    "\n",
    "#2 - call defined function\n",
    "clean_headlines = [clean(doc).split() for doc in headlines]\n",
    "\n",
    "#3 - Create dictionary\n",
    "dictionary =  gensim.corpora.Dictionary(clean_headlines)\n",
    "\n",
    "#4 - Corpus - Doc-term matrix\n",
    "doc_term_matrix = [dictionary.doc2bow(doc) for doc in clean_headlines]\n",
    "\n",
    "#5 - build LDA model\n",
    "lda_model = LdaModel(doc_term_matrix, num_topics=5, id2word = dictionary, iterations=10, random_state=2)\n",
    "\n",
    "# extract topics for headlines\n",
    "topics = lda_model.print_topics(num_topics=5, num_words=10)\n",
    "\n",
    "# pprint topics\n",
    "pprint(lda_model.print_topics())"
   ]
  },
  {
   "cell_type": "code",
   "execution_count": 26,
   "metadata": {},
   "outputs": [
    {
     "name": "stdout",
     "output_type": "stream",
     "text": [
      "0.2817006151285487\n"
     ]
    }
   ],
   "source": [
    "#Coherence check of LDA\n",
    "\n",
    "coherence_model_lda = CoherenceModel(model=lda_model, texts=clean_headlines, dictionary=dictionary, coherence='c_v')\n",
    "coherence_lda = coherence_model_lda.get_coherence()\n",
    "print(coherence_lda)"
   ]
  },
  {
   "cell_type": "code",
   "execution_count": 27,
   "metadata": {},
   "outputs": [],
   "source": [
    "def compute_coherence_values(dictionary, corpus, texts, limit, start=2, step=3):\n",
    "    \"\"\"\n",
    "    Compute c_v coherence for various number of topics\n",
    "\n",
    "    Parameters:\n",
    "    ----------\n",
    "    dictionary : Gensim dictionary\n",
    "    corpus : Gensim corpus\n",
    "    texts : List of input texts\n",
    "    limit : Max num of topics\n",
    "\n",
    "    Returns:\n",
    "    -------\n",
    "    model_list : List of LDA topic models\n",
    "    coherence_values : Coherence values corresponding to the LDA model with respective number of topics\n",
    "    \"\"\"\n",
    "    coherence_values = []\n",
    "    model_list = []\n",
    "    for num_topics in range(start, limit, step):\n",
    "        model = gensim.models.ldamodel.LdaModel(doc_term_matrix, random_state = 2, num_topics=num_topics, id2word = dictionary, iterations=10)\n",
    "        model_list.append(model)\n",
    "        coherencemodel = CoherenceModel(model=model, texts=texts, dictionary=dictionary, coherence='c_v')\n",
    "        coherence_values.append(coherencemodel.get_coherence())\n",
    "\n",
    "    return model_list, coherence_values"
   ]
  },
  {
   "cell_type": "code",
   "execution_count": 28,
   "metadata": {},
   "outputs": [
    {
     "name": "stdout",
     "output_type": "stream",
     "text": [
      "[0.28, 0.26, 0.26, 0.28, 0.32, 0.37, 0.39, 0.42]\n"
     ]
    }
   ],
   "source": [
    "model_list, coherence_values = compute_coherence_values( dictionary=dictionary, corpus=doc_term_matrix, texts=clean_headlines, start=2, limit=50, step=6)\n",
    "print([round(i,2) for i in coherence_values])"
   ]
  },
  {
   "cell_type": "code",
   "execution_count": 29,
   "metadata": {},
   "outputs": [
    {
     "data": {
      "image/png": "[encoded data removed]",
      "text/plain": [
       "<Figure size 432x288 with 1 Axes>"
      ]
     },
     "metadata": {
      "needs_background": "light"
     },
     "output_type": "display_data"
    }
   ],
   "source": [
    "limit=50; start=2; step=6;\n",
    "x = range(start, limit, step)\n",
    "plt.plot(x, coherence_values)\n",
    "plt.xlabel(\"Num Topics\")\n",
    "plt.ylabel(\"Coherence score\")\n",
    "plt.legend((\"coherence_values\"), loc='best')\n",
    "plt.show()"
   ]
  },
  {
   "cell_type": "code",
   "execution_count": null,
   "metadata": {},
   "outputs": [],
   "source": []
  }
 ],
 "metadata": {
  "kernelspec": {
   "display_name": "Python 3",
   "language": "python",
   "name": "python3"
  },
  "language_info": {
   "codemirror_mode": {
    "name": "ipython",
    "version": 3
   },
   "file_extension": ".py",
   "mimetype": "text/x-python",
   "name": "python",
   "nbconvert_exporter": "python",
   "pygments_lexer": "ipython3",
   "version": "3.7.4"
  }
 },
 "nbformat": 4,
 "nbformat_minor": 2
}
