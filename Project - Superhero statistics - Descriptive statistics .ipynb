{
 "cells": [
  {
   "cell_type": "code",
   "execution_count": 1,
   "metadata": {},
   "outputs": [],
   "source": [
    "import numpy as np\n",
    "import pandas as pd\n",
    "import matplotlib.pyplot as plt"
   ]
  },
  {
   "cell_type": "code",
   "execution_count": 2,
   "metadata": {},
   "outputs": [],
   "source": [
    "df = pd.read_csv('Superhero.csv')"
   ]
  },
  {
   "cell_type": "code",
   "execution_count": 3,
   "metadata": {},
   "outputs": [
    {
     "data": {
      "text/html": [
       "<div>\n",
       "<style scoped>\n",
       "    .dataframe tbody tr th:only-of-type {\n",
       "        vertical-align: middle;\n",
       "    }\n",
       "\n",
       "    .dataframe tbody tr th {\n",
       "        vertical-align: top;\n",
       "    }\n",
       "\n",
       "    .dataframe thead th {\n",
       "        text-align: right;\n",
       "    }\n",
       "</style>\n",
       "<table border=\"1\" class=\"dataframe\">\n",
       "  <thead>\n",
       "    <tr style=\"text-align: right;\">\n",
       "      <th></th>\n",
       "      <th>ID</th>\n",
       "      <th>Name</th>\n",
       "      <th>Alignment</th>\n",
       "      <th>Gender</th>\n",
       "      <th>Intelligence</th>\n",
       "      <th>Strength</th>\n",
       "      <th>Speed</th>\n",
       "      <th>Durability</th>\n",
       "      <th>Power</th>\n",
       "      <th>Combat</th>\n",
       "      <th>Total</th>\n",
       "      <th>Height</th>\n",
       "      <th>Weight</th>\n",
       "      <th>SkinColor</th>\n",
       "      <th>EyeColor</th>\n",
       "      <th>HairColor</th>\n",
       "      <th>Race</th>\n",
       "    </tr>\n",
       "  </thead>\n",
       "  <tbody>\n",
       "    <tr>\n",
       "      <td>0</td>\n",
       "      <td>0</td>\n",
       "      <td>3-D Man</td>\n",
       "      <td>good</td>\n",
       "      <td>Male</td>\n",
       "      <td>50</td>\n",
       "      <td>31</td>\n",
       "      <td>43</td>\n",
       "      <td>32</td>\n",
       "      <td>25</td>\n",
       "      <td>52</td>\n",
       "      <td>233</td>\n",
       "      <td>203.0</td>\n",
       "      <td>441</td>\n",
       "      <td>-</td>\n",
       "      <td>yellow</td>\n",
       "      <td>No Hair</td>\n",
       "      <td>Human</td>\n",
       "    </tr>\n",
       "    <tr>\n",
       "      <td>1</td>\n",
       "      <td>1</td>\n",
       "      <td>A-Bomb</td>\n",
       "      <td>good</td>\n",
       "      <td>Male</td>\n",
       "      <td>38</td>\n",
       "      <td>100</td>\n",
       "      <td>17</td>\n",
       "      <td>80</td>\n",
       "      <td>17</td>\n",
       "      <td>64</td>\n",
       "      <td>316</td>\n",
       "      <td>191.0</td>\n",
       "      <td>65</td>\n",
       "      <td>blue</td>\n",
       "      <td>blue</td>\n",
       "      <td>No Hair</td>\n",
       "      <td>Icthyo Sapien</td>\n",
       "    </tr>\n",
       "    <tr>\n",
       "      <td>2</td>\n",
       "      <td>2</td>\n",
       "      <td>Abe Sapien</td>\n",
       "      <td>good</td>\n",
       "      <td>Male</td>\n",
       "      <td>88</td>\n",
       "      <td>14</td>\n",
       "      <td>35</td>\n",
       "      <td>42</td>\n",
       "      <td>35</td>\n",
       "      <td>85</td>\n",
       "      <td>299</td>\n",
       "      <td>185.0</td>\n",
       "      <td>90</td>\n",
       "      <td>red</td>\n",
       "      <td>blue</td>\n",
       "      <td>No Hair</td>\n",
       "      <td>Ungaran</td>\n",
       "    </tr>\n",
       "    <tr>\n",
       "      <td>3</td>\n",
       "      <td>3</td>\n",
       "      <td>Abin Sur</td>\n",
       "      <td>good</td>\n",
       "      <td>Male</td>\n",
       "      <td>50</td>\n",
       "      <td>90</td>\n",
       "      <td>53</td>\n",
       "      <td>64</td>\n",
       "      <td>84</td>\n",
       "      <td>65</td>\n",
       "      <td>406</td>\n",
       "      <td>203.0</td>\n",
       "      <td>441</td>\n",
       "      <td>-</td>\n",
       "      <td>green</td>\n",
       "      <td>No Hair</td>\n",
       "      <td>Human / Radiation</td>\n",
       "    </tr>\n",
       "    <tr>\n",
       "      <td>4</td>\n",
       "      <td>4</td>\n",
       "      <td>Abomination</td>\n",
       "      <td>bad</td>\n",
       "      <td>Male</td>\n",
       "      <td>63</td>\n",
       "      <td>80</td>\n",
       "      <td>53</td>\n",
       "      <td>90</td>\n",
       "      <td>55</td>\n",
       "      <td>95</td>\n",
       "      <td>436</td>\n",
       "      <td>-99.0</td>\n",
       "      <td>-99</td>\n",
       "      <td>-</td>\n",
       "      <td>blue</td>\n",
       "      <td>Black</td>\n",
       "      <td>Cosmic Entity</td>\n",
       "    </tr>\n",
       "  </tbody>\n",
       "</table>\n",
       "</div>"
      ],
      "text/plain": [
       "   ID         Name Alignment Gender  Intelligence  Strength  Speed  \\\n",
       "0   0      3-D Man      good   Male            50        31     43   \n",
       "1   1       A-Bomb      good   Male            38       100     17   \n",
       "2   2   Abe Sapien      good   Male            88        14     35   \n",
       "3   3     Abin Sur      good   Male            50        90     53   \n",
       "4   4  Abomination       bad   Male            63        80     53   \n",
       "\n",
       "   Durability  Power  Combat  Total  Height  Weight SkinColor EyeColor  \\\n",
       "0          32     25      52    233   203.0     441         -   yellow   \n",
       "1          80     17      64    316   191.0      65      blue     blue   \n",
       "2          42     35      85    299   185.0      90       red     blue   \n",
       "3          64     84      65    406   203.0     441         -    green   \n",
       "4          90     55      95    436   -99.0     -99         -     blue   \n",
       "\n",
       "  HairColor               Race  \n",
       "0   No Hair              Human  \n",
       "1   No Hair      Icthyo Sapien  \n",
       "2   No Hair            Ungaran  \n",
       "3   No Hair  Human / Radiation  \n",
       "4     Black      Cosmic Entity  "
      ]
     },
     "execution_count": 3,
     "metadata": {},
     "output_type": "execute_result"
    }
   ],
   "source": [
    "df.head()"
   ]
  },
  {
   "cell_type": "code",
   "execution_count": 4,
   "metadata": {},
   "outputs": [],
   "source": [
    "df['Gender'].replace('-','Agender',inplace=True)"
   ]
  },
  {
   "cell_type": "code",
   "execution_count": 6,
   "metadata": {},
   "outputs": [
    {
     "name": "stdout",
     "output_type": "stream",
     "text": [
      "Male       413\n",
      "Female     157\n",
      "Agender     24\n",
      "Name: Gender, dtype: int64\n"
     ]
    }
   ],
   "source": [
    "gender_counts = df['Gender'].value_counts()\n",
    "print(gender_countsder_counts)"
   ]
  },
  {
   "cell_type": "code",
   "execution_count": 7,
   "metadata": {},
   "outputs": [
    {
     "name": "stdout",
     "output_type": "stream",
     "text": [
      "good       420\n",
      "bad        163\n",
      "neutral     11\n",
      "Name: Alignment, dtype: int64\n"
     ]
    }
   ],
   "source": [
    "alignment = df['Alignment'].value_counts()\n",
    "print(alignment)"
   ]
  },
  {
   "cell_type": "code",
   "execution_count": 17,
   "metadata": {},
   "outputs": [
    {
     "data": {
      "image/png": "[encoded data removed]",
      "text/plain": [
       "<Figure size 432x288 with 1 Axes>"
      ]
     },
     "metadata": {},
     "output_type": "display_data"
    }
   ],
   "source": [
    "plt.pie(alignment,labels=alignment.index)\n",
    "plt.title('Character alignment')\n",
    "plt.show()"
   ]
  },
  {
   "cell_type": "code",
   "execution_count": 18,
   "metadata": {},
   "outputs": [],
   "source": [
    "#IMPORTANT -  COMBAT CORRELATION ------------------------------------------------------------------------------\n",
    "sc_df = df[['Strength','Combat']]"
   ]
  },
  {
   "cell_type": "code",
   "execution_count": 20,
   "metadata": {},
   "outputs": [
    {
     "name": "stdout",
     "output_type": "stream",
     "text": [
      "617.4890075573039\n"
     ]
    }
   ],
   "source": [
    "sc_covariance = sc_df.cov().iloc[0,1]\n",
    "print(sc_covariance)"
   ]
  },
  {
   "cell_type": "code",
   "execution_count": 21,
   "metadata": {},
   "outputs": [],
   "source": [
    "sc_strength =sc_df['Strength'].std()"
   ]
  },
  {
   "cell_type": "code",
   "execution_count": 22,
   "metadata": {},
   "outputs": [],
   "source": [
    "sc_combat = sc_df['Combat'].std()"
   ]
  },
  {
   "cell_type": "code",
   "execution_count": 23,
   "metadata": {},
   "outputs": [
    {
     "name": "stdout",
     "output_type": "stream",
     "text": [
      "0.5720958235612106\n"
     ]
    }
   ],
   "source": [
    "sc_pearson = sc_covariance/(sc_strength*sc_combat)\n",
    "print(sc_pearson)"
   ]
  },
  {
   "cell_type": "code",
   "execution_count": 24,
   "metadata": {},
   "outputs": [],
   "source": [
    "ic_df = df[['Intelligence','Combat']]"
   ]
  },
  {
   "cell_type": "code",
   "execution_count": 25,
   "metadata": {},
   "outputs": [],
   "source": [
    "ic_covariance = ic_df.cov().iloc[0,1]"
   ]
  },
  {
   "cell_type": "code",
   "execution_count": 26,
   "metadata": {},
   "outputs": [],
   "source": [
    "ic_intelligence = ic_df['Intelligence'].std()"
   ]
  },
  {
   "cell_type": "code",
   "execution_count": 27,
   "metadata": {},
   "outputs": [],
   "source": [
    "ic_combat = ic_df['Combat'].std()"
   ]
  },
  {
   "cell_type": "code",
   "execution_count": 28,
   "metadata": {},
   "outputs": [
    {
     "name": "stdout",
     "output_type": "stream",
     "text": [
      "0.7821504525171137\n"
     ]
    }
   ],
   "source": [
    "ic_pearson = ic_covariance/(ic_combat*ic_intelligence)\n",
    "print(ic_pearson)"
   ]
  },
  {
   "cell_type": "code",
   "execution_count": 29,
   "metadata": {},
   "outputs": [],
   "source": [
    "total_high = df.Total.quantile(q=0.99)"
   ]
  },
  {
   "cell_type": "code",
   "execution_count": 30,
   "metadata": {},
   "outputs": [],
   "source": [
    "super_best = df[df['Total']>total_high]"
   ]
  },
  {
   "cell_type": "code",
   "execution_count": 31,
   "metadata": {},
   "outputs": [
    {
     "name": "stdout",
     "output_type": "stream",
     "text": [
      "['Amazo', 'General Zod', 'Martian Manhunter', 'Stardust', 'Superboy-Prime', 'Superman']\n"
     ]
    }
   ],
   "source": [
    "super_best_names = list(super_best['Name'])\n",
    "print(super_best_names)"
   ]
  },
  {
   "cell_type": "code",
   "execution_count": 40,
   "metadata": {},
   "outputs": [
    {
     "data": {
      "image/png": "[encoded data removed]",
      "text/plain": [
       "<Figure size 720x720 with 3 Axes>"
      ]
     },
     "metadata": {
      "needs_background": "light"
     },
     "output_type": "display_data"
    }
   ],
   "source": [
    "fig, (ax_1,ax_2,ax_3) = plt.subplots(3,1,figsize=(10,10))\n",
    "\n",
    "boxplot1 = df.boxplot(column=['Intelligence'], ax=ax_1)\n",
    "ax_1.set_title('Intelligence')\n",
    "\n",
    "boxplot2 = df.boxplot(column=['Speed'], ax=ax_2)\n",
    "ax_2.set_title('Speed')\n",
    "\n",
    "boxplot3 = df.boxplot(column=['Power'], ax=ax_3)\n",
    "ax_3.set_title('Power')\n",
    "\n",
    "plt.show()"
   ]
  },
  {
   "cell_type": "code",
   "execution_count": null,
   "metadata": {},
   "outputs": [],
   "source": []
  }
 ],
 "metadata": {
  "kernelspec": {
   "display_name": "Python 3",
   "language": "python",
   "name": "python3"
  },
  "language_info": {
   "codemirror_mode": {
    "name": "ipython",
    "version": 3
   },
   "file_extension": ".py",
   "mimetype": "text/x-python",
   "name": "python",
   "nbconvert_exporter": "python",
   "pygments_lexer": "ipython3",
   "version": "3.7.4"
  }
 },
 "nbformat": 4,
 "nbformat_minor": 2
}
