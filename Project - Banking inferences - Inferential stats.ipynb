{
 "cells": [
  {
   "cell_type": "code",
   "execution_count": 1,
   "metadata": {},
   "outputs": [],
   "source": [
    "import numpy as np\n",
    "import pandas as pd\n",
    "import matplotlib.pyplot as plt\n",
    "import scipy\n",
    "import scipy.stats as stats\n",
    "import math\n",
    "import warnings\n",
    "\n",
    "warnings.filterwarnings('ignore')"
   ]
  },
  {
   "cell_type": "code",
   "execution_count": 2,
   "metadata": {},
   "outputs": [],
   "source": [
    "df = pd.read_csv('Cleaned loan.csv')"
   ]
  },
  {
   "cell_type": "code",
   "execution_count": 3,
   "metadata": {},
   "outputs": [
    {
     "data": {
      "text/html": [
       "<div>\n",
       "<style scoped>\n",
       "    .dataframe tbody tr th:only-of-type {\n",
       "        vertical-align: middle;\n",
       "    }\n",
       "\n",
       "    .dataframe tbody tr th {\n",
       "        vertical-align: top;\n",
       "    }\n",
       "\n",
       "    .dataframe thead th {\n",
       "        text-align: right;\n",
       "    }\n",
       "</style>\n",
       "<table border=\"1\" class=\"dataframe\">\n",
       "  <thead>\n",
       "    <tr style=\"text-align: right;\">\n",
       "      <th></th>\n",
       "      <th>customer.id</th>\n",
       "      <th>credit.policy</th>\n",
       "      <th>purpose</th>\n",
       "      <th>int.rate</th>\n",
       "      <th>installment</th>\n",
       "      <th>log.annual.inc</th>\n",
       "      <th>dti</th>\n",
       "      <th>fico</th>\n",
       "      <th>days.with.cr.line</th>\n",
       "      <th>revol.bal</th>\n",
       "      <th>revol.util</th>\n",
       "      <th>pub.rec</th>\n",
       "      <th>inq.last.6mths</th>\n",
       "      <th>delinq.2yrs</th>\n",
       "      <th>paid.back.loan</th>\n",
       "    </tr>\n",
       "  </thead>\n",
       "  <tbody>\n",
       "    <tr>\n",
       "      <td>0</td>\n",
       "      <td>LA001</td>\n",
       "      <td>Yes</td>\n",
       "      <td>debt_consolidation</td>\n",
       "      <td>11.89%</td>\n",
       "      <td>829.10</td>\n",
       "      <td>11.350407</td>\n",
       "      <td>19.48</td>\n",
       "      <td>737</td>\n",
       "      <td>5639.958333</td>\n",
       "      <td>28854</td>\n",
       "      <td>52.1</td>\n",
       "      <td>0</td>\n",
       "      <td>Less than 5</td>\n",
       "      <td>No</td>\n",
       "      <td>Yes</td>\n",
       "    </tr>\n",
       "    <tr>\n",
       "      <td>1</td>\n",
       "      <td>LA002</td>\n",
       "      <td>Yes</td>\n",
       "      <td>credit_card</td>\n",
       "      <td>10.71%</td>\n",
       "      <td>228.22</td>\n",
       "      <td>11.082143</td>\n",
       "      <td>14.29</td>\n",
       "      <td>707</td>\n",
       "      <td>2760.000000</td>\n",
       "      <td>33623</td>\n",
       "      <td>76.7</td>\n",
       "      <td>0</td>\n",
       "      <td>Less than 5</td>\n",
       "      <td>No</td>\n",
       "      <td>Yes</td>\n",
       "    </tr>\n",
       "    <tr>\n",
       "      <td>2</td>\n",
       "      <td>LA003</td>\n",
       "      <td>Yes</td>\n",
       "      <td>debt_consolidation</td>\n",
       "      <td>13.57%</td>\n",
       "      <td>366.86</td>\n",
       "      <td>10.373491</td>\n",
       "      <td>11.63</td>\n",
       "      <td>682</td>\n",
       "      <td>4710.000000</td>\n",
       "      <td>3511</td>\n",
       "      <td>25.6</td>\n",
       "      <td>0</td>\n",
       "      <td>Less than 5</td>\n",
       "      <td>No</td>\n",
       "      <td>Yes</td>\n",
       "    </tr>\n",
       "    <tr>\n",
       "      <td>3</td>\n",
       "      <td>LA004</td>\n",
       "      <td>Yes</td>\n",
       "      <td>debt_consolidation</td>\n",
       "      <td>10.08%</td>\n",
       "      <td>162.34</td>\n",
       "      <td>11.350407</td>\n",
       "      <td>8.10</td>\n",
       "      <td>712</td>\n",
       "      <td>2699.958333</td>\n",
       "      <td>33667</td>\n",
       "      <td>73.2</td>\n",
       "      <td>0</td>\n",
       "      <td>Less than 5</td>\n",
       "      <td>No</td>\n",
       "      <td>Yes</td>\n",
       "    </tr>\n",
       "    <tr>\n",
       "      <td>4</td>\n",
       "      <td>LA005</td>\n",
       "      <td>Yes</td>\n",
       "      <td>credit_card</td>\n",
       "      <td>14.26%</td>\n",
       "      <td>102.92</td>\n",
       "      <td>11.299732</td>\n",
       "      <td>14.97</td>\n",
       "      <td>667</td>\n",
       "      <td>4066.000000</td>\n",
       "      <td>4740</td>\n",
       "      <td>39.5</td>\n",
       "      <td>0</td>\n",
       "      <td>Less than 5</td>\n",
       "      <td>Yes</td>\n",
       "      <td>Yes</td>\n",
       "    </tr>\n",
       "  </tbody>\n",
       "</table>\n",
       "</div>"
      ],
      "text/plain": [
       "  customer.id credit.policy             purpose int.rate  installment  \\\n",
       "0       LA001           Yes  debt_consolidation   11.89%       829.10   \n",
       "1       LA002           Yes         credit_card   10.71%       228.22   \n",
       "2       LA003           Yes  debt_consolidation   13.57%       366.86   \n",
       "3       LA004           Yes  debt_consolidation   10.08%       162.34   \n",
       "4       LA005           Yes         credit_card   14.26%       102.92   \n",
       "\n",
       "   log.annual.inc    dti  fico  days.with.cr.line  revol.bal  revol.util  \\\n",
       "0       11.350407  19.48   737        5639.958333      28854        52.1   \n",
       "1       11.082143  14.29   707        2760.000000      33623        76.7   \n",
       "2       10.373491  11.63   682        4710.000000       3511        25.6   \n",
       "3       11.350407   8.10   712        2699.958333      33667        73.2   \n",
       "4       11.299732  14.97   667        4066.000000       4740        39.5   \n",
       "\n",
       "   pub.rec inq.last.6mths delinq.2yrs paid.back.loan  \n",
       "0        0    Less than 5          No            Yes  \n",
       "1        0    Less than 5          No            Yes  \n",
       "2        0    Less than 5          No            Yes  \n",
       "3        0    Less than 5          No            Yes  \n",
       "4        0    Less than 5         Yes            Yes  "
      ]
     },
     "execution_count": 3,
     "metadata": {},
     "output_type": "execute_result"
    }
   ],
   "source": [
    "df.head()"
   ]
  },
  {
   "cell_type": "code",
   "execution_count": 4,
   "metadata": {},
   "outputs": [
    {
     "data": {
      "text/html": [
       "<div>\n",
       "<style scoped>\n",
       "    .dataframe tbody tr th:only-of-type {\n",
       "        vertical-align: middle;\n",
       "    }\n",
       "\n",
       "    .dataframe tbody tr th {\n",
       "        vertical-align: top;\n",
       "    }\n",
       "\n",
       "    .dataframe thead th {\n",
       "        text-align: right;\n",
       "    }\n",
       "</style>\n",
       "<table border=\"1\" class=\"dataframe\">\n",
       "  <thead>\n",
       "    <tr style=\"text-align: right;\">\n",
       "      <th></th>\n",
       "      <th>customer.id</th>\n",
       "      <th>credit.policy</th>\n",
       "      <th>purpose</th>\n",
       "      <th>int.rate</th>\n",
       "      <th>installment</th>\n",
       "      <th>log.annual.inc</th>\n",
       "      <th>dti</th>\n",
       "      <th>fico</th>\n",
       "      <th>days.with.cr.line</th>\n",
       "      <th>revol.bal</th>\n",
       "      <th>revol.util</th>\n",
       "      <th>pub.rec</th>\n",
       "      <th>inq.last.6mths</th>\n",
       "      <th>delinq.2yrs</th>\n",
       "      <th>paid.back.loan</th>\n",
       "    </tr>\n",
       "  </thead>\n",
       "  <tbody>\n",
       "    <tr>\n",
       "      <td>3343</td>\n",
       "      <td>LA003344</td>\n",
       "      <td>Yes</td>\n",
       "      <td>all_other</td>\n",
       "      <td>11.89%</td>\n",
       "      <td>49.75</td>\n",
       "      <td>10.829729</td>\n",
       "      <td>16.87</td>\n",
       "      <td>687</td>\n",
       "      <td>2314.958333</td>\n",
       "      <td>962</td>\n",
       "      <td>64.1</td>\n",
       "      <td>0</td>\n",
       "      <td>Less than 5</td>\n",
       "      <td>No</td>\n",
       "      <td>Yes</td>\n",
       "    </tr>\n",
       "    <tr>\n",
       "      <td>9</td>\n",
       "      <td>LA0010</td>\n",
       "      <td>Yes</td>\n",
       "      <td>debt_consolidation</td>\n",
       "      <td>12.21%</td>\n",
       "      <td>84.12</td>\n",
       "      <td>10.203592</td>\n",
       "      <td>10.00</td>\n",
       "      <td>707</td>\n",
       "      <td>2730.041667</td>\n",
       "      <td>5630</td>\n",
       "      <td>23.0</td>\n",
       "      <td>0</td>\n",
       "      <td>Less than 5</td>\n",
       "      <td>No</td>\n",
       "      <td>Yes</td>\n",
       "    </tr>\n",
       "    <tr>\n",
       "      <td>1741</td>\n",
       "      <td>LA001742</td>\n",
       "      <td>Yes</td>\n",
       "      <td>debt_consolidation</td>\n",
       "      <td>16.95%</td>\n",
       "      <td>712.54</td>\n",
       "      <td>11.918391</td>\n",
       "      <td>13.61</td>\n",
       "      <td>672</td>\n",
       "      <td>4830.041667</td>\n",
       "      <td>16473</td>\n",
       "      <td>94.1</td>\n",
       "      <td>0</td>\n",
       "      <td>Less than 5</td>\n",
       "      <td>Yes</td>\n",
       "      <td>Yes</td>\n",
       "    </tr>\n",
       "    <tr>\n",
       "      <td>5160</td>\n",
       "      <td>LA005161</td>\n",
       "      <td>Yes</td>\n",
       "      <td>debt_consolidation</td>\n",
       "      <td>17.39%</td>\n",
       "      <td>286.78</td>\n",
       "      <td>11.189962</td>\n",
       "      <td>19.59</td>\n",
       "      <td>667</td>\n",
       "      <td>7020.000000</td>\n",
       "      <td>19892</td>\n",
       "      <td>67.0</td>\n",
       "      <td>1</td>\n",
       "      <td>Less than 5</td>\n",
       "      <td>No</td>\n",
       "      <td>Yes</td>\n",
       "    </tr>\n",
       "    <tr>\n",
       "      <td>7760</td>\n",
       "      <td>LA007761</td>\n",
       "      <td>No</td>\n",
       "      <td>credit_card</td>\n",
       "      <td>13.12%</td>\n",
       "      <td>202.51</td>\n",
       "      <td>9.392662</td>\n",
       "      <td>4.40</td>\n",
       "      <td>657</td>\n",
       "      <td>898.958333</td>\n",
       "      <td>5251</td>\n",
       "      <td>49.3</td>\n",
       "      <td>0</td>\n",
       "      <td>Less than 10</td>\n",
       "      <td>No</td>\n",
       "      <td>Yes</td>\n",
       "    </tr>\n",
       "  </tbody>\n",
       "</table>\n",
       "</div>"
      ],
      "text/plain": [
       "     customer.id credit.policy             purpose int.rate  installment  \\\n",
       "3343    LA003344           Yes           all_other   11.89%        49.75   \n",
       "9         LA0010           Yes  debt_consolidation   12.21%        84.12   \n",
       "1741    LA001742           Yes  debt_consolidation   16.95%       712.54   \n",
       "5160    LA005161           Yes  debt_consolidation   17.39%       286.78   \n",
       "7760    LA007761            No         credit_card   13.12%       202.51   \n",
       "\n",
       "      log.annual.inc    dti  fico  days.with.cr.line  revol.bal  revol.util  \\\n",
       "3343       10.829729  16.87   687        2314.958333        962        64.1   \n",
       "9          10.203592  10.00   707        2730.041667       5630        23.0   \n",
       "1741       11.918391  13.61   672        4830.041667      16473        94.1   \n",
       "5160       11.189962  19.59   667        7020.000000      19892        67.0   \n",
       "7760        9.392662   4.40   657         898.958333       5251        49.3   \n",
       "\n",
       "      pub.rec inq.last.6mths delinq.2yrs paid.back.loan  \n",
       "3343        0    Less than 5          No            Yes  \n",
       "9           0    Less than 5          No            Yes  \n",
       "1741        0    Less than 5         Yes            Yes  \n",
       "5160        1    Less than 5          No            Yes  \n",
       "7760        0   Less than 10          No            Yes  "
      ]
     },
     "execution_count": 4,
     "metadata": {},
     "output_type": "execute_result"
    }
   ],
   "source": [
    "sample_size = 2000\n",
    "\n",
    "df_sample = df.sample(n=sample_size, random_state=0)\n",
    "df_sample.head()"
   ]
  },
  {
   "cell_type": "code",
   "execution_count": 5,
   "metadata": {},
   "outputs": [
    {
     "name": "stdout",
     "output_type": "stream",
     "text": [
      "317.61096499999996\n"
     ]
    }
   ],
   "source": [
    "sample_mean = df_sample.installment.mean()\n",
    "print(sample_mean)"
   ]
  },
  {
   "cell_type": "code",
   "execution_count": 6,
   "metadata": {},
   "outputs": [
    {
     "name": "stdout",
     "output_type": "stream",
     "text": [
      "207.64991593475952\n"
     ]
    }
   ],
   "source": [
    "sample_std = df_sample.installment.std()\n",
    "print(sample_std)"
   ]
  },
  {
   "cell_type": "code",
   "execution_count": 7,
   "metadata": {},
   "outputs": [
    {
     "name": "stdout",
     "output_type": "stream",
     "text": [
      "1.6448536269514722\n"
     ]
    }
   ],
   "source": [
    "z_critical = stats.norm.ppf(q=0.95)\n",
    "print(z_critical)"
   ]
  },
  {
   "cell_type": "code",
   "execution_count": 8,
   "metadata": {},
   "outputs": [
    {
     "name": "stdout",
     "output_type": "stream",
     "text": [
      "7.637373299879691\n"
     ]
    }
   ],
   "source": [
    "margin_error = z_critical*(sample_std/math.sqrt(sample_size))\n",
    "print(margin_error)"
   ]
  },
  {
   "cell_type": "code",
   "execution_count": 9,
   "metadata": {},
   "outputs": [
    {
     "name": "stdout",
     "output_type": "stream",
     "text": [
      "(309.97359170012027, 325.24833829987966)\n"
     ]
    }
   ],
   "source": [
    "confidence_interval = (sample_mean-margin_error,sample_mean+margin_error)\n",
    "print(confidence_interval)"
   ]
  },
  {
   "cell_type": "code",
   "execution_count": 10,
   "metadata": {},
   "outputs": [
    {
     "name": "stdout",
     "output_type": "stream",
     "text": [
      "319.08941323867265\n"
     ]
    }
   ],
   "source": [
    "true_mean = df.installment.mean()\n",
    "print(true_mean)"
   ]
  },
  {
   "cell_type": "code",
   "execution_count": 11,
   "metadata": {},
   "outputs": [],
   "source": [
    "#CENTRAL LIMIT THEOREM\n",
    "sample_size=np.array([20,50,100])"
   ]
  },
  {
   "cell_type": "code",
   "execution_count": 12,
   "metadata": {},
   "outputs": [
    {
     "data": {
      "image/png": "[encoded data removed]",
      "text/plain": [
       "<Figure size 720x720 with 3 Axes>"
      ]
     },
     "metadata": {
      "needs_background": "light"
     },
     "output_type": "display_data"
    }
   ],
   "source": [
    "fig ,axes = plt.subplots(3,1, figsize=(10,10))\n",
    "\n",
    "for i in range(len(sample_size)):\n",
    "    m=[]\n",
    "    \n",
    "    for j in range(1000):\n",
    "        mean = df['installment'].sample(sample_size[i]).mean()\n",
    "        m.append(mean)\n",
    "    \n",
    "    mean_series = pd.Series(m)\n",
    "    \n",
    "    axes[i].hist(mean_series, normed=True)"
   ]
  },
  {
   "cell_type": "code",
   "execution_count": 13,
   "metadata": {},
   "outputs": [],
   "source": [
    "from statsmodels.stats.weightstats import ztest"
   ]
  },
  {
   "cell_type": "code",
   "execution_count": 14,
   "metadata": {},
   "outputs": [],
   "source": [
    "#HYPOTHESIS TESTING\n",
    "\n",
    "# Removing the last character from the values in column\n",
    "df['int.rate'] = df['int.rate'].map(lambda x: str(x)[:-1])\n",
    "\n",
    "#Dividing the column values by 100\n",
    "df['int.rate']= df['int.rate'].astype(float)/100"
   ]
  },
  {
   "cell_type": "code",
   "execution_count": 15,
   "metadata": {},
   "outputs": [],
   "source": [
    "z_statistics,p_value = ztest(df[df['purpose']=='small_business']['int.rate'], value = df['int.rate'].mean(), alternative='larger')"
   ]
  },
  {
   "cell_type": "code",
   "execution_count": 16,
   "metadata": {},
   "outputs": [
    {
     "name": "stdout",
     "output_type": "stream",
     "text": [
      "Z score 12.321276240201554\n",
      "p value 3.479213190639132e-35\n"
     ]
    }
   ],
   "source": [
    "print(\"Z score\",z_statistics)\n",
    "print(\"p value\",p_value)"
   ]
  },
  {
   "cell_type": "code",
   "execution_count": 17,
   "metadata": {},
   "outputs": [
    {
     "name": "stdout",
     "output_type": "stream",
     "text": [
      "Reject Null H\n"
     ]
    }
   ],
   "source": [
    "if p_value<0.05:\n",
    "    inference = 'Reject Null H'\n",
    "else:\n",
    "    inference = 'Accept Null H'\n",
    "    \n",
    "print(inference)"
   ]
  },
  {
   "cell_type": "code",
   "execution_count": 18,
   "metadata": {},
   "outputs": [
    {
     "name": "stdout",
     "output_type": "stream",
     "text": [
      "Z-statistic1 is :4.894575287952092\n",
      "P-value1 is :9.85182562491764e-07\n"
     ]
    }
   ],
   "source": [
    "z_statistic1, p_value1 = ztest(x1=df[df['paid.back.loan']=='No']['installment'], x2=df[df['paid.back.loan']=='Yes']['installment'])\n",
    "\n",
    "print(('Z-statistic1 is :{}'.format(z_statistic1)))\n",
    "print(('P-value1 is :{}'.format(p_value1)))"
   ]
  },
  {
   "cell_type": "code",
   "execution_count": 19,
   "metadata": {},
   "outputs": [
    {
     "name": "stdout",
     "output_type": "stream",
     "text": [
      "Reject Null H\n"
     ]
    }
   ],
   "source": [
    "if p_value1<0.05:\n",
    "    inference1 = 'Reject Null H'\n",
    "else:\n",
    "    inference1 = 'Accept Null H'\n",
    "    \n",
    "print(inference1)"
   ]
  },
  {
   "cell_type": "code",
   "execution_count": 20,
   "metadata": {},
   "outputs": [
    {
     "data": {
      "text/plain": [
       "debt_consolidation    603\n",
       "all_other             387\n",
       "small_business        172\n",
       "credit_card           146\n",
       "home_improvement      107\n",
       "educational            69\n",
       "major_purchase         49\n",
       "Name: purpose, dtype: int64"
      ]
     },
     "execution_count": 20,
     "metadata": {},
     "output_type": "execute_result"
    }
   ],
   "source": [
    "yes = df[df['paid.back.loan'] == 'Yes']['purpose'].value_counts()\n",
    "yes\n",
    "no = df[df['paid.back.loan'] == 'No']['purpose'].value_counts()\n",
    "no"
   ]
  },
  {
   "cell_type": "code",
   "execution_count": 21,
   "metadata": {},
   "outputs": [
    {
     "name": "stdout",
     "output_type": "stream",
     "text": [
      "                     Yes   No\n",
      "all_other           1944  387\n",
      "credit_card         1116  146\n",
      "debt_consolidation  3354  603\n",
      "educational          274   69\n",
      "home_improvement     522  107\n",
      "major_purchase       388   49\n",
      "small_business       447  172\n"
     ]
    }
   ],
   "source": [
    "observed = pd.concat([yes.transpose(),no.transpose()],keys= ['Yes','No'],axis=1)\n",
    "print(observed)"
   ]
  },
  {
   "cell_type": "code",
   "execution_count": 22,
   "metadata": {},
   "outputs": [],
   "source": [
    "chi2, p, dof, ex = stats.chi2_contingency(observed)"
   ]
  },
  {
   "cell_type": "code",
   "execution_count": 23,
   "metadata": {},
   "outputs": [
    {
     "name": "stdout",
     "output_type": "stream",
     "text": [
      "96.98469589063261\n"
     ]
    }
   ],
   "source": [
    "print(chi2)"
   ]
  },
  {
   "cell_type": "code",
   "execution_count": 24,
   "metadata": {},
   "outputs": [
    {
     "name": "stdout",
     "output_type": "stream",
     "text": [
      "12.591587243743977\n"
     ]
    }
   ],
   "source": [
    "critical_value = stats.chi2.ppf(q = 0.95, df = 6)\n",
    "print(critical_value)"
   ]
  },
  {
   "cell_type": "code",
   "execution_count": null,
   "metadata": {},
   "outputs": [],
   "source": []
  }
 ],
 "metadata": {
  "kernelspec": {
   "display_name": "Python 3",
   "language": "python",
   "name": "python3"
  },
  "language_info": {
   "codemirror_mode": {
    "name": "ipython",
    "version": 3
   },
   "file_extension": ".py",
   "mimetype": "text/x-python",
   "name": "python",
   "nbconvert_exporter": "python",
   "pygments_lexer": "ipython3",
   "version": "3.7.4"
  }
 },
 "nbformat": 4,
 "nbformat_minor": 2
}
